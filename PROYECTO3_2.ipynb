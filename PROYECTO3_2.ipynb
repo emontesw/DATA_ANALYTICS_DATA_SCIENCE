{
  "cells": [
    {
      "cell_type": "markdown",
      "metadata": {
        "id": "view-in-github",
        "colab_type": "text"
      },
      "source": [
        "<a href=\"https://colab.research.google.com/github/emontesw/DATA_ANALYTICS_DATA_SCIENCE/blob/main/PROYECTO3_2.ipynb\" target=\"_parent\"><img src=\"https://colab.research.google.com/assets/colab-badge.svg\" alt=\"Open In Colab\"/></a>"
      ]
    },
    {
      "cell_type": "markdown",
      "metadata": {
        "id": "nEtS3vfFm1DJ"
      },
      "source": [
        "PROYECTO 3.2\n",
        "\n",
        "ESTADISTICA INFERENCIAL\n",
        "\n",
        "PROGRAMA ESPECIALIZADO CIENCIA DE DATOS CON PYTHON\n",
        "\n",
        "DATA & ANALYTICS\n",
        "\n",
        "MCB ENRIQUE MONTES WONG"
      ]
    },
    {
      "cell_type": "code",
      "execution_count": null,
      "metadata": {
        "id": "NCbnXENam88i"
      },
      "outputs": [],
      "source": [
        "#CARGAR LIBRERIAS A UTILIZAR \n",
        "import pandas as pd\n",
        "import seaborn as sns\n",
        "import statistics as stats # estadística"
      ]
    },
    {
      "cell_type": "code",
      "execution_count": null,
      "metadata": {
        "id": "BaQc7oA0nk_p"
      },
      "outputs": [],
      "source": [
        "#CARGAR LA DATA (EN CASO DE ESTAR EN LA PC)\n",
        "from google.colab import files\n",
        "uploaded = files.upload()\n",
        "#files.upload()"
      ]
    },
    {
      "cell_type": "code",
      "execution_count": null,
      "metadata": {
        "id": "rccVNnaenox5"
      },
      "outputs": [],
      "source": [
        "#LEVANTAMOS LA DATA Y CREMAOS EL DATA FRAME (EN CASO DE TENER LA DATA EN LA PC)\n",
        "data_nutricion = pd.read_excel('Data_Nutricion.xlsx', sheet_name='Hoja1')\n",
        "data_nutricion.head()"
      ]
    },
    {
      "cell_type": "code",
      "execution_count": null,
      "metadata": {
        "colab": {
          "base_uri": "https://localhost:8080/"
        },
        "id": "CK5eU6rynslT",
        "outputId": "c453cdda-b277-41d8-89b4-3009e516dcb7"
      },
      "outputs": [
        {
          "output_type": "stream",
          "name": "stdout",
          "text": [
            "Drive already mounted at /content/drive; to attempt to forcibly remount, call drive.mount(\"/content/drive\", force_remount=True).\n"
          ]
        }
      ],
      "source": [
        "#Cargar archivo desde una carpeta de Drive  \n",
        "from google.colab import drive\n",
        "drive.mount('/content/drive')"
      ]
    },
    {
      "cell_type": "code",
      "execution_count": null,
      "metadata": {
        "colab": {
          "base_uri": "https://localhost:8080/",
          "height": 270
        },
        "id": "uMZ0VDt3nvor",
        "outputId": "df453989-fe1a-40ae-c643-90afa5256204"
      },
      "outputs": [
        {
          "output_type": "execute_result",
          "data": {
            "text/plain": [
              "   talla  edad  peso_kg  circun_cuello        IMC  circun_cintura  cadera  \\\n",
              "0  155.7  16.0     71.2           35.7  29.576170            90.0    98.0   \n",
              "1  166.5  16.0     61.0           31.8  22.364707            80.9   100.5   \n",
              "2  151.3  16.0     49.1           30.5  21.623567            72.0    86.0   \n",
              "3  151.7  16.0     54.6           32.6  23.117479            74.4    88.4   \n",
              "4  160.3  16.0     58.0           30.1  22.260196            79.6    97.9   \n",
              "\n",
              "   ind_cintura_cadera  ind_cintura_estatura  por_grasa_corporal  \\\n",
              "0            0.918367              0.578035           36.446202   \n",
              "1            0.804975              0.485886           28.790714   \n",
              "2            0.837209              0.475876           29.867419   \n",
              "3            0.841629              0.490442           27.867640   \n",
              "4            0.813075              0.496569           30.276688   \n",
              "\n",
              "   masa_corporal_magra_kg  pliegue_cutaneo_BICEPS  pliegue_cutaneo_TRICEPS  \\\n",
              "0               45.250304                    13.0                     27.0   \n",
              "1               43.437664                     5.0                     19.0   \n",
              "2               34.435097                    13.0                     18.0   \n",
              "3               39.384269                     5.0                     19.0   \n",
              "4               40.439521                    10.0                     19.0   \n",
              "\n",
              "   pliegue_cutaneo_ESCAPULAR  pliegue_cutaneo_SUPRAILIACO  \n",
              "0                       32.0                         34.0  \n",
              "1                       15.0                         22.0  \n",
              "2                       18.0                         17.0  \n",
              "3                       15.0                         18.0  \n",
              "4                       20.0                         19.0  "
            ],
            "text/html": [
              "\n",
              "  <div id=\"df-16eb5a8f-e46f-4b2d-9e15-7e63c800a81c\">\n",
              "    <div class=\"colab-df-container\">\n",
              "      <div>\n",
              "<style scoped>\n",
              "    .dataframe tbody tr th:only-of-type {\n",
              "        vertical-align: middle;\n",
              "    }\n",
              "\n",
              "    .dataframe tbody tr th {\n",
              "        vertical-align: top;\n",
              "    }\n",
              "\n",
              "    .dataframe thead th {\n",
              "        text-align: right;\n",
              "    }\n",
              "</style>\n",
              "<table border=\"1\" class=\"dataframe\">\n",
              "  <thead>\n",
              "    <tr style=\"text-align: right;\">\n",
              "      <th></th>\n",
              "      <th>talla</th>\n",
              "      <th>edad</th>\n",
              "      <th>peso_kg</th>\n",
              "      <th>circun_cuello</th>\n",
              "      <th>IMC</th>\n",
              "      <th>circun_cintura</th>\n",
              "      <th>cadera</th>\n",
              "      <th>ind_cintura_cadera</th>\n",
              "      <th>ind_cintura_estatura</th>\n",
              "      <th>por_grasa_corporal</th>\n",
              "      <th>masa_corporal_magra_kg</th>\n",
              "      <th>pliegue_cutaneo_BICEPS</th>\n",
              "      <th>pliegue_cutaneo_TRICEPS</th>\n",
              "      <th>pliegue_cutaneo_ESCAPULAR</th>\n",
              "      <th>pliegue_cutaneo_SUPRAILIACO</th>\n",
              "    </tr>\n",
              "  </thead>\n",
              "  <tbody>\n",
              "    <tr>\n",
              "      <th>0</th>\n",
              "      <td>155.7</td>\n",
              "      <td>16.0</td>\n",
              "      <td>71.2</td>\n",
              "      <td>35.7</td>\n",
              "      <td>29.576170</td>\n",
              "      <td>90.0</td>\n",
              "      <td>98.0</td>\n",
              "      <td>0.918367</td>\n",
              "      <td>0.578035</td>\n",
              "      <td>36.446202</td>\n",
              "      <td>45.250304</td>\n",
              "      <td>13.0</td>\n",
              "      <td>27.0</td>\n",
              "      <td>32.0</td>\n",
              "      <td>34.0</td>\n",
              "    </tr>\n",
              "    <tr>\n",
              "      <th>1</th>\n",
              "      <td>166.5</td>\n",
              "      <td>16.0</td>\n",
              "      <td>61.0</td>\n",
              "      <td>31.8</td>\n",
              "      <td>22.364707</td>\n",
              "      <td>80.9</td>\n",
              "      <td>100.5</td>\n",
              "      <td>0.804975</td>\n",
              "      <td>0.485886</td>\n",
              "      <td>28.790714</td>\n",
              "      <td>43.437664</td>\n",
              "      <td>5.0</td>\n",
              "      <td>19.0</td>\n",
              "      <td>15.0</td>\n",
              "      <td>22.0</td>\n",
              "    </tr>\n",
              "    <tr>\n",
              "      <th>2</th>\n",
              "      <td>151.3</td>\n",
              "      <td>16.0</td>\n",
              "      <td>49.1</td>\n",
              "      <td>30.5</td>\n",
              "      <td>21.623567</td>\n",
              "      <td>72.0</td>\n",
              "      <td>86.0</td>\n",
              "      <td>0.837209</td>\n",
              "      <td>0.475876</td>\n",
              "      <td>29.867419</td>\n",
              "      <td>34.435097</td>\n",
              "      <td>13.0</td>\n",
              "      <td>18.0</td>\n",
              "      <td>18.0</td>\n",
              "      <td>17.0</td>\n",
              "    </tr>\n",
              "    <tr>\n",
              "      <th>3</th>\n",
              "      <td>151.7</td>\n",
              "      <td>16.0</td>\n",
              "      <td>54.6</td>\n",
              "      <td>32.6</td>\n",
              "      <td>23.117479</td>\n",
              "      <td>74.4</td>\n",
              "      <td>88.4</td>\n",
              "      <td>0.841629</td>\n",
              "      <td>0.490442</td>\n",
              "      <td>27.867640</td>\n",
              "      <td>39.384269</td>\n",
              "      <td>5.0</td>\n",
              "      <td>19.0</td>\n",
              "      <td>15.0</td>\n",
              "      <td>18.0</td>\n",
              "    </tr>\n",
              "    <tr>\n",
              "      <th>4</th>\n",
              "      <td>160.3</td>\n",
              "      <td>16.0</td>\n",
              "      <td>58.0</td>\n",
              "      <td>30.1</td>\n",
              "      <td>22.260196</td>\n",
              "      <td>79.6</td>\n",
              "      <td>97.9</td>\n",
              "      <td>0.813075</td>\n",
              "      <td>0.496569</td>\n",
              "      <td>30.276688</td>\n",
              "      <td>40.439521</td>\n",
              "      <td>10.0</td>\n",
              "      <td>19.0</td>\n",
              "      <td>20.0</td>\n",
              "      <td>19.0</td>\n",
              "    </tr>\n",
              "  </tbody>\n",
              "</table>\n",
              "</div>\n",
              "      <button class=\"colab-df-convert\" onclick=\"convertToInteractive('df-16eb5a8f-e46f-4b2d-9e15-7e63c800a81c')\"\n",
              "              title=\"Convert this dataframe to an interactive table.\"\n",
              "              style=\"display:none;\">\n",
              "        \n",
              "  <svg xmlns=\"http://www.w3.org/2000/svg\" height=\"24px\"viewBox=\"0 0 24 24\"\n",
              "       width=\"24px\">\n",
              "    <path d=\"M0 0h24v24H0V0z\" fill=\"none\"/>\n",
              "    <path d=\"M18.56 5.44l.94 2.06.94-2.06 2.06-.94-2.06-.94-.94-2.06-.94 2.06-2.06.94zm-11 1L8.5 8.5l.94-2.06 2.06-.94-2.06-.94L8.5 2.5l-.94 2.06-2.06.94zm10 10l.94 2.06.94-2.06 2.06-.94-2.06-.94-.94-2.06-.94 2.06-2.06.94z\"/><path d=\"M17.41 7.96l-1.37-1.37c-.4-.4-.92-.59-1.43-.59-.52 0-1.04.2-1.43.59L10.3 9.45l-7.72 7.72c-.78.78-.78 2.05 0 2.83L4 21.41c.39.39.9.59 1.41.59.51 0 1.02-.2 1.41-.59l7.78-7.78 2.81-2.81c.8-.78.8-2.07 0-2.86zM5.41 20L4 18.59l7.72-7.72 1.47 1.35L5.41 20z\"/>\n",
              "  </svg>\n",
              "      </button>\n",
              "      \n",
              "  <style>\n",
              "    .colab-df-container {\n",
              "      display:flex;\n",
              "      flex-wrap:wrap;\n",
              "      gap: 12px;\n",
              "    }\n",
              "\n",
              "    .colab-df-convert {\n",
              "      background-color: #E8F0FE;\n",
              "      border: none;\n",
              "      border-radius: 50%;\n",
              "      cursor: pointer;\n",
              "      display: none;\n",
              "      fill: #1967D2;\n",
              "      height: 32px;\n",
              "      padding: 0 0 0 0;\n",
              "      width: 32px;\n",
              "    }\n",
              "\n",
              "    .colab-df-convert:hover {\n",
              "      background-color: #E2EBFA;\n",
              "      box-shadow: 0px 1px 2px rgba(60, 64, 67, 0.3), 0px 1px 3px 1px rgba(60, 64, 67, 0.15);\n",
              "      fill: #174EA6;\n",
              "    }\n",
              "\n",
              "    [theme=dark] .colab-df-convert {\n",
              "      background-color: #3B4455;\n",
              "      fill: #D2E3FC;\n",
              "    }\n",
              "\n",
              "    [theme=dark] .colab-df-convert:hover {\n",
              "      background-color: #434B5C;\n",
              "      box-shadow: 0px 1px 3px 1px rgba(0, 0, 0, 0.15);\n",
              "      filter: drop-shadow(0px 1px 2px rgba(0, 0, 0, 0.3));\n",
              "      fill: #FFFFFF;\n",
              "    }\n",
              "  </style>\n",
              "\n",
              "      <script>\n",
              "        const buttonEl =\n",
              "          document.querySelector('#df-16eb5a8f-e46f-4b2d-9e15-7e63c800a81c button.colab-df-convert');\n",
              "        buttonEl.style.display =\n",
              "          google.colab.kernel.accessAllowed ? 'block' : 'none';\n",
              "\n",
              "        async function convertToInteractive(key) {\n",
              "          const element = document.querySelector('#df-16eb5a8f-e46f-4b2d-9e15-7e63c800a81c');\n",
              "          const dataTable =\n",
              "            await google.colab.kernel.invokeFunction('convertToInteractive',\n",
              "                                                     [key], {});\n",
              "          if (!dataTable) return;\n",
              "\n",
              "          const docLinkHtml = 'Like what you see? Visit the ' +\n",
              "            '<a target=\"_blank\" href=https://colab.research.google.com/notebooks/data_table.ipynb>data table notebook</a>'\n",
              "            + ' to learn more about interactive tables.';\n",
              "          element.innerHTML = '';\n",
              "          dataTable['output_type'] = 'display_data';\n",
              "          await google.colab.output.renderOutput(dataTable, element);\n",
              "          const docLink = document.createElement('div');\n",
              "          docLink.innerHTML = docLinkHtml;\n",
              "          element.appendChild(docLink);\n",
              "        }\n",
              "      </script>\n",
              "    </div>\n",
              "  </div>\n",
              "  "
            ]
          },
          "metadata": {},
          "execution_count": 21
        }
      ],
      "source": [
        "#CARGAR LA DATA DESDE DRIVE \n",
        "import pandas as pd\n",
        "\n",
        "data_nutricion = pd.read_excel('/content/drive/MyDrive/ColabNotebooks/DATA&ANALYTICS/CURSO_CIENCIA_DATOS/PROYECTO3/Data_Nutricion.xlsx', sheet_name='Hoja1')\n",
        "data_nutricion.head()\n",
        "#files.upload()\n",
        "data_nutricion.head()"
      ]
    },
    {
      "cell_type": "markdown",
      "metadata": {
        "id": "dQBTzUyUolnT"
      },
      "source": [
        "## Prueba de normalidad\n",
        "\n",
        "PLANTEAMIENTO DE LAS HIPóTESIS\n",
        "\n",
        "Ho: Los datos estan normalmente distribuidos      \n",
        "Ha: Los datos no estan normalmente distribuidos\n",
        "\n",
        "Nivel de significancia = 5% (0.05)"
      ]
    },
    {
      "cell_type": "code",
      "execution_count": null,
      "metadata": {
        "colab": {
          "base_uri": "https://localhost:8080/"
        },
        "id": "TN6AG5Y0ozj6",
        "outputId": "f652788d-e120-44b4-b3fc-1652a9bf60cd"
      },
      "outputs": [
        {
          "output_type": "stream",
          "name": "stderr",
          "text": [
            "/usr/local/lib/python3.7/dist-packages/statsmodels/tools/_testing.py:19: FutureWarning: pandas.util.testing is deprecated. Use the functions in the public API at pandas.testing instead.\n",
            "  import pandas.util.testing as tm\n"
          ]
        }
      ],
      "source": [
        "#LIBRERIAS A UTILIZAR \n",
        "import matplotlib.pyplot as plt\n",
        "from statsmodels.graphics.gofplots import qqplot\n",
        "from scipy.stats import shapiro # n <= 50\n",
        "from scipy.stats import kstest  # n > 50\n",
        "from scipy.stats import zscore"
      ]
    },
    {
      "cell_type": "code",
      "execution_count": null,
      "metadata": {
        "colab": {
          "base_uri": "https://localhost:8080/",
          "height": 1000
        },
        "id": "Ybq0qU8Zn757",
        "outputId": "1f24545e-ca0c-4bae-e4bb-a1b589abd75b"
      },
      "outputs": [
        {
          "output_type": "stream",
          "name": "stdout",
          "text": [
            "Variable:  talla\n"
          ]
        },
        {
          "output_type": "display_data",
          "data": {
            "text/plain": [
              "<Figure size 432x288 with 1 Axes>"
            ],
            "image/png": "[encoded data removed]"
          },
          "metadata": {
            "needs_background": "light"
          }
        },
        {
          "output_type": "stream",
          "name": "stdout",
          "text": [
            "Variable:  edad\n"
          ]
        },
        {
          "output_type": "display_data",
          "data": {
            "text/plain": [
              "<Figure size 432x288 with 1 Axes>"
            ],
            "image/png": "[encoded data removed]"
          },
          "metadata": {
            "needs_background": "light"
          }
        },
        {
          "output_type": "stream",
          "name": "stdout",
          "text": [
            "Variable:  peso_kg\n"
          ]
        },
        {
          "output_type": "display_data",
          "data": {
            "text/plain": [
              "<Figure size 432x288 with 1 Axes>"
            ],
            "image/png": "[encoded data removed]"
          },
          "metadata": {
            "needs_background": "light"
          }
        },
        {
          "output_type": "stream",
          "name": "stdout",
          "text": [
            "Variable:  circun_cuello\n"
          ]
        },
        {
          "output_type": "display_data",
          "data": {
            "text/plain": [
              "<Figure size 432x288 with 1 Axes>"
            ],
            "image/png": "[encoded data removed]"
          },
          "metadata": {
            "needs_background": "light"
          }
        },
        {
          "output_type": "stream",
          "name": "stdout",
          "text": [
            "Variable:  IMC\n"
          ]
        },
        {
          "output_type": "display_data",
          "data": {
            "text/plain": [
              "<Figure size 432x288 with 1 Axes>"
            ],
            "image/png": "[encoded data removed]"
          },
          "metadata": {
            "needs_background": "light"
          }
        },
        {
          "output_type": "stream",
          "name": "stdout",
          "text": [
            "Variable:  circun_cintura\n"
          ]
        },
        {
          "output_type": "display_data",
          "data": {
            "text/plain": [
              "<Figure size 432x288 with 1 Axes>"
            ],
            "image/png": "[encoded data removed]"
          },
          "metadata": {
            "needs_background": "light"
          }
        },
        {
          "output_type": "stream",
          "name": "stdout",
          "text": [
            "Variable:  cadera\n"
          ]
        },
        {
          "output_type": "display_data",
          "data": {
            "text/plain": [
              "<Figure size 432x288 with 1 Axes>"
            ],
            "image/png": "[encoded data removed]"
          },
          "metadata": {
            "needs_background": "light"
          }
        },
        {
          "output_type": "stream",
          "name": "stdout",
          "text": [
            "Variable:  ind_cintura_cadera\n"
          ]
        },
        {
          "output_type": "display_data",
          "data": {
            "text/plain": [
              "<Figure size 432x288 with 1 Axes>"
            ],
            "image/png": "[encoded data removed]"
          },
          "metadata": {
            "needs_background": "light"
          }
        },
        {
          "output_type": "stream",
          "name": "stdout",
          "text": [
            "Variable:  ind_cintura_estatura\n"
          ]
        },
        {
          "output_type": "display_data",
          "data": {
            "text/plain": [
              "<Figure size 432x288 with 1 Axes>"
            ],
            "image/png": "[encoded data removed]"
          },
          "metadata": {
            "needs_background": "light"
          }
        },
        {
          "output_type": "stream",
          "name": "stdout",
          "text": [
            "Variable:  por_grasa_corporal\n"
          ]
        },
        {
          "output_type": "display_data",
          "data": {
            "text/plain": [
              "<Figure size 432x288 with 1 Axes>"
            ],
            "image/png": "[encoded data removed]"
          },
          "metadata": {
            "needs_background": "light"
          }
        },
        {
          "output_type": "stream",
          "name": "stdout",
          "text": [
            "Variable:  masa_corporal_magra_kg\n"
          ]
        },
        {
          "output_type": "display_data",
          "data": {
            "text/plain": [
              "<Figure size 432x288 with 1 Axes>"
            ],
            "image/png": "[encoded data removed]"
          },
          "metadata": {
            "needs_background": "light"
          }
        },
        {
          "output_type": "stream",
          "name": "stdout",
          "text": [
            "Variable:  pliegue_cutaneo_BICEPS\n"
          ]
        },
        {
          "output_type": "display_data",
          "data": {
            "text/plain": [
              "<Figure size 432x288 with 1 Axes>"
            ],
            "image/png": "[encoded data removed]"
          },
          "metadata": {
            "needs_background": "light"
          }
        },
        {
          "output_type": "stream",
          "name": "stdout",
          "text": [
            "Variable:  pliegue_cutaneo_TRICEPS\n"
          ]
        },
        {
          "output_type": "display_data",
          "data": {
            "text/plain": [
              "<Figure size 432x288 with 1 Axes>"
            ],
            "image/png": "[encoded data removed]"
          },
          "metadata": {
            "needs_background": "light"
          }
        },
        {
          "output_type": "stream",
          "name": "stdout",
          "text": [
            "Variable:  pliegue_cutaneo_ESCAPULAR\n"
          ]
        },
        {
          "output_type": "display_data",
          "data": {
            "text/plain": [
              "<Figure size 432x288 with 1 Axes>"
            ],
            "image/png": "[encoded data removed]"
          },
          "metadata": {
            "needs_background": "light"
          }
        },
        {
          "output_type": "stream",
          "name": "stdout",
          "text": [
            "Variable:  pliegue_cutaneo_SUPRAILIACO\n"
          ]
        },
        {
          "output_type": "display_data",
          "data": {
            "text/plain": [
              "<Figure size 432x288 with 1 Axes>"
            ],
            "image/png": "[encoded data removed]"
          },
          "metadata": {
            "needs_background": "light"
          }
        }
      ],
      "source": [
        "#FUNCION QUE OBTIENE LOS GRAFICOS DE NORMALIDAD\n",
        "#DE CADA UNO DE LAS VARIABLES \n",
        "\n",
        "def Graf_Normal(columns,data):\n",
        "  \n",
        "  for x in columns:\n",
        "    print(\"Variable: \", x)\n",
        "    qqplot(data[x] , line='s')\n",
        "    plt.show()\n",
        "\n",
        "  pass\n",
        "\n",
        "#Obtener el array de las columnas de la DATA \n",
        "columnas = data_nutricion.columns.values\n",
        "#print(columnas)\n",
        "\n",
        "Graf_Normal(columnas,data_nutricion)"
      ]
    },
    {
      "cell_type": "markdown",
      "source": [
        "PLANTEAMIENTO DE LAS HIPóTESIS\n",
        "\n",
        "Ho: Los datos estan normalmente distribuidos      \n",
        "Ha: Los datos no estan normalmente distribuidos\n",
        "\n",
        "Nivel de significancia = 5% (0.05)"
      ],
      "metadata": {
        "id": "F_p8TnMFu6Fb"
      }
    },
    {
      "cell_type": "code",
      "source": [
        "#PRUEBA DE NORMALIDAD \n",
        "#PARA TAMAÑO DE MUESTRA N>50\n",
        "\n",
        "#SE CREA UNA FUNCIÓN QUE RELIZA LA PRUEBA DE NORMALIDAD DE CADA VARIABLE \n",
        "\n",
        "def Normalidad(columns,data,p0):\n",
        "  for x in columns:\n",
        "    print(\"Variable: \", x)\n",
        "    stat, p1 = kstest(data[x], 'norm')\n",
        "    print('Estadisticos=%.3f, p-value=%.3f' % (stat, p1))\n",
        "    if p1 >= p0:\n",
        "      print(\"Se ACEPTA Ho por lo tanto los datos ESTAN NORMALMENTE DISTRIBUIDOS\")\n",
        "    else:\n",
        "      print(\"Se RECHAZA Ho por lo tanto los datos NO ESTAN NORMALMENTE DISTRIBUIDOS\")\n",
        "    print(\"--------------------------------------------------------------------------\")\n",
        "  pass\n",
        "\n",
        "#Obtener el array de las columnas de la DATA \n",
        "columnas = data_nutricion.columns.values\n",
        "#print(columnas)\n",
        "\n",
        "#Valor del error Tipo I\n",
        "p0 = 0.05\n",
        "Normalidad(columnas,data_nutricion,p0)"
      ],
      "metadata": {
        "colab": {
          "base_uri": "https://localhost:8080/"
        },
        "id": "Cs2oNvP7uT_C",
        "outputId": "7d495f73-0039-4eec-d003-601465f39391"
      },
      "execution_count": null,
      "outputs": [
        {
          "output_type": "stream",
          "name": "stdout",
          "text": [
            "Variable:  talla\n",
            "Estadisticos=1.000, p-value=0.000\n",
            "Se RECHAZA Ho por lo tanto los datos NO ESTAN NORMALMENTE DISTRIBUIDOS\n",
            "--------------------------------------------------------------------------\n",
            "Variable:  edad\n",
            "Estadisticos=0.998, p-value=0.000\n",
            "Se RECHAZA Ho por lo tanto los datos NO ESTAN NORMALMENTE DISTRIBUIDOS\n",
            "--------------------------------------------------------------------------\n",
            "Variable:  peso_kg\n",
            "Estadisticos=1.000, p-value=0.000\n",
            "Se RECHAZA Ho por lo tanto los datos NO ESTAN NORMALMENTE DISTRIBUIDOS\n",
            "--------------------------------------------------------------------------\n",
            "Variable:  circun_cuello\n",
            "Estadisticos=1.000, p-value=0.000\n",
            "Se RECHAZA Ho por lo tanto los datos NO ESTAN NORMALMENTE DISTRIBUIDOS\n",
            "--------------------------------------------------------------------------\n",
            "Variable:  IMC\n",
            "Estadisticos=1.000, p-value=0.000\n",
            "Se RECHAZA Ho por lo tanto los datos NO ESTAN NORMALMENTE DISTRIBUIDOS\n",
            "--------------------------------------------------------------------------\n",
            "Variable:  circun_cintura\n",
            "Estadisticos=1.000, p-value=0.000\n",
            "Se RECHAZA Ho por lo tanto los datos NO ESTAN NORMALMENTE DISTRIBUIDOS\n",
            "--------------------------------------------------------------------------\n",
            "Variable:  cadera\n",
            "Estadisticos=1.000, p-value=0.000\n",
            "Se RECHAZA Ho por lo tanto los datos NO ESTAN NORMALMENTE DISTRIBUIDOS\n",
            "--------------------------------------------------------------------------\n",
            "Variable:  ind_cintura_cadera\n",
            "Estadisticos=0.756, p-value=0.000\n",
            "Se RECHAZA Ho por lo tanto los datos NO ESTAN NORMALMENTE DISTRIBUIDOS\n",
            "--------------------------------------------------------------------------\n",
            "Variable:  ind_cintura_estatura\n",
            "Estadisticos=0.645, p-value=0.000\n",
            "Se RECHAZA Ho por lo tanto los datos NO ESTAN NORMALMENTE DISTRIBUIDOS\n",
            "--------------------------------------------------------------------------\n",
            "Variable:  por_grasa_corporal\n",
            "Estadisticos=1.000, p-value=0.000\n",
            "Se RECHAZA Ho por lo tanto los datos NO ESTAN NORMALMENTE DISTRIBUIDOS\n",
            "--------------------------------------------------------------------------\n",
            "Variable:  masa_corporal_magra_kg\n",
            "Estadisticos=1.000, p-value=0.000\n",
            "Se RECHAZA Ho por lo tanto los datos NO ESTAN NORMALMENTE DISTRIBUIDOS\n",
            "--------------------------------------------------------------------------\n",
            "Variable:  pliegue_cutaneo_BICEPS\n",
            "Estadisticos=0.994, p-value=0.000\n",
            "Se RECHAZA Ho por lo tanto los datos NO ESTAN NORMALMENTE DISTRIBUIDOS\n",
            "--------------------------------------------------------------------------\n",
            "Variable:  pliegue_cutaneo_TRICEPS\n",
            "Estadisticos=1.000, p-value=0.000\n",
            "Se RECHAZA Ho por lo tanto los datos NO ESTAN NORMALMENTE DISTRIBUIDOS\n",
            "--------------------------------------------------------------------------\n",
            "Variable:  pliegue_cutaneo_ESCAPULAR\n",
            "Estadisticos=1.000, p-value=0.000\n",
            "Se RECHAZA Ho por lo tanto los datos NO ESTAN NORMALMENTE DISTRIBUIDOS\n",
            "--------------------------------------------------------------------------\n",
            "Variable:  pliegue_cutaneo_SUPRAILIACO\n",
            "Estadisticos=0.999, p-value=0.000\n",
            "Se RECHAZA Ho por lo tanto los datos NO ESTAN NORMALMENTE DISTRIBUIDOS\n",
            "--------------------------------------------------------------------------\n"
          ]
        }
      ]
    },
    {
      "cell_type": "markdown",
      "source": [
        "## Normalizando variables / transformadas\n",
        "\n",
        "normalización = ( x – min(x) ) / ( max(x) – min(x) )"
      ],
      "metadata": {
        "id": "dlSkLA5G1u4o"
      }
    },
    {
      "cell_type": "code",
      "source": [
        "# Normalizamos las variables numéricas\n",
        "\n",
        "from sklearn.preprocessing import MinMaxScaler\n",
        "\n",
        "scaler = MinMaxScaler()\n",
        "data_nutricion_norm = scaler.fit_transform(data_nutricion)\n",
        "data_nutricion_norm"
      ],
      "metadata": {
        "id": "OFdPG_Xq15TD"
      },
      "execution_count": null,
      "outputs": []
    },
    {
      "cell_type": "code",
      "source": [
        "#Creamos el DataFrame con los DATOS NORMALIZADOS \n",
        "\n",
        "#Obtener el array de las columnas de la DATA \n",
        "columnas = data_nutricion.columns.values\n",
        "\n",
        "#Crear el DataFrame\n",
        "data_nutricion_norm = pd.DataFrame(\n",
        "    data=data_nutricion_norm,\n",
        "    columns=columnas)\n",
        "\n",
        "#Muestra el DataFrame de los datos de data_nutricion ya NORMALIZADOS\n",
        "data_nutricion_norm.head()\n",
        "#data_nutricion_norm.info()"
      ],
      "metadata": {
        "id": "QVyQoDXO5Pcx"
      },
      "execution_count": null,
      "outputs": []
    },
    {
      "cell_type": "code",
      "source": [
        "#CREAR LOS GRAFICOS DE NORMALIDAD\n",
        "#CON LOS DATOS DE data_nutricion_norm\n",
        "\n",
        "#Obtener el array de las columnas de la DATA \n",
        "columnas = data_nutricion_norm.columns.values\n",
        "#print(columnas)\n",
        "\n",
        "#Se generan los gráficos de Normalidad\n",
        "Graf_Normal(columnas,data_nutricion_norm)"
      ],
      "metadata": {
        "id": "VS0ahka96jtn"
      },
      "execution_count": null,
      "outputs": []
    },
    {
      "cell_type": "code",
      "source": [
        "# Test de Kolmogorov-Smirnov\n",
        "#Cuando n > 50\n",
        "\n",
        "#Obtener el array de las columnas de la DATA \n",
        "columnas = data_nutricion_norm.columns.values\n",
        "#print(columnas)\n",
        "\n",
        "#Valor del error Tipo I\n",
        "p0 = 0.05\n",
        "Normalidad(columnas,data_nutricion_norm,p0)"
      ],
      "metadata": {
        "id": "SSrZxq749O0K"
      },
      "execution_count": null,
      "outputs": []
    },
    {
      "cell_type": "markdown",
      "source": [
        "## Estandarización de variables"
      ],
      "metadata": {
        "id": "eVhii1Uv90FC"
      }
    },
    {
      "cell_type": "code",
      "source": [
        "#Estandarizacion de los datos del DataFrame data_nutricion\n",
        "data_nutricion_estand = zscore(data_nutricion, axis=1)\n",
        "data_nutricion_estand"
      ],
      "metadata": {
        "id": "VpEdAGcN9skb"
      },
      "execution_count": null,
      "outputs": []
    },
    {
      "cell_type": "code",
      "source": [
        "#Creamos el DataFrame con los DATOS ESTANDARIZADOS\n",
        "\n",
        "#Obtener el array de las columnas de la DATA \n",
        "columnas = data_nutricion.columns.values\n",
        "\n",
        "#Crear el DataFrame\n",
        "data_nutricion_estand = pd.DataFrame(\n",
        "    data=data_nutricion_estand,\n",
        "    columns=columnas)\n",
        "\n",
        "#Muestra el DataFrame de los datos de data_nutricion ya NORMALIZADOS\n",
        "data_nutricion_estand.head()\n",
        "#data_nutricion_norm.info()"
      ],
      "metadata": {
        "id": "jpVjpHqJQKUC"
      },
      "execution_count": null,
      "outputs": []
    },
    {
      "cell_type": "code",
      "source": [
        "#CREAR LOS GRAFICOS DE NORMALIDAD\n",
        "#CON LOS DATOS DE data_nutricion_estand\n",
        "\n",
        "#Obtener el array de las columnas de la DATA \n",
        "columnas = data_nutricion_estand.columns.values\n",
        "#print(columnas)\n",
        "\n",
        "#Se generan los gráficos de Normalidad\n",
        "Graf_Normal(columnas,data_nutricion_estand)"
      ],
      "metadata": {
        "id": "MG6nfWpjRThy"
      },
      "execution_count": null,
      "outputs": []
    },
    {
      "cell_type": "code",
      "source": [
        "# Test de Kolmogorov-Smirnov\n",
        "#Cuando n > 50\n",
        "\n",
        "#Obtener el array de las columnas de la DATA \n",
        "columnas = data_nutricion_estand.columns.values\n",
        "#print(columnas)\n",
        "\n",
        "#Valor del error Tipo I\n",
        "p0 = 0.05\n",
        "Normalidad(columnas,data_nutricion_estand,p0)"
      ],
      "metadata": {
        "id": "fO2AhmmKRoSf"
      },
      "execution_count": null,
      "outputs": []
    },
    {
      "cell_type": "markdown",
      "source": [
        "## Normalización con SKLEARN"
      ],
      "metadata": {
        "id": "WSJ7rP-hVWDR"
      }
    },
    {
      "cell_type": "code",
      "source": [
        "from sklearn.preprocessing import StandardScaler\n",
        "\n",
        "skler = StandardScaler()\n",
        "data_nutricion_skler = skler.fit_transform(data_nutricion)\n",
        "data_nutricion_skler\n"
      ],
      "metadata": {
        "colab": {
          "base_uri": "https://localhost:8080/"
        },
        "id": "i4ogM5TQVUnT",
        "outputId": "4eaeb46f-2acc-46c8-b90a-1b2c03499481"
      },
      "execution_count": null,
      "outputs": [
        {
          "output_type": "execute_result",
          "data": {
            "text/plain": [
              "array([[-0.4210475 ,  1.17814049,  1.67769816, ...,  1.9958441 ,\n",
              "         3.32175318,  3.2475333 ],\n",
              "       [ 1.04033265,  1.17814049,  0.47938609, ...,  0.58942383,\n",
              "         0.11625847,  1.23048952],\n",
              "       [-1.0164246 ,  1.17814049, -0.91864465, ...,  0.4136213 ,\n",
              "         0.68193401,  0.39005461],\n",
              "       ...,\n",
              "       [-0.65107956,  0.22863789,  0.23267478, ..., -0.6411939 ,\n",
              "        -0.07230004,  0.55814159],\n",
              "       [ 2.09577388, -0.7208647 ,  3.73362572, ...,  0.06201623,\n",
              "         0.68193401,  0.89431555],\n",
              "       [-0.10982765, -0.7208647 ,  0.07994873, ...,  1.4684365 ,\n",
              "         1.05905103,  1.56666348]])"
            ]
          },
          "metadata": {},
          "execution_count": 9
        }
      ]
    },
    {
      "cell_type": "code",
      "source": [
        "#Creamos el DataFrame con los DATOS ESTANDARIZADOS\n",
        "\n",
        "#Obtener el array de las columnas de la DATA \n",
        "columnas = data_nutricion.columns.values\n",
        "\n",
        "#Crear el DataFrame\n",
        "data_nutricion_skler = pd.DataFrame(\n",
        "    data=data_nutricion_skler,\n",
        "    columns=columnas)\n",
        "\n",
        "#Muestra el DataFrame de los datos de data_nutricion ya NORMALIZADOS\n",
        "data_nutricion_skler.head()\n",
        "#data_nutricion_norm.info()"
      ],
      "metadata": {
        "colab": {
          "base_uri": "https://localhost:8080/",
          "height": 270
        },
        "id": "O5c7rFY9XIL1",
        "outputId": "cc4df7a8-cd11-4787-e756-2bb758fac879"
      },
      "execution_count": null,
      "outputs": [
        {
          "output_type": "execute_result",
          "data": {
            "text/plain": [
              "      talla     edad   peso_kg  circun_cuello       IMC  circun_cintura  \\\n",
              "0 -0.421047  1.17814  1.677698       1.641765  2.357629        2.201726   \n",
              "1  1.040333  1.17814  0.479386      -0.165065 -0.017224        0.898448   \n",
              "2 -1.016425  1.17814 -0.918645      -0.767341 -0.261293       -0.376187   \n",
              "3 -0.962299  1.17814 -0.272496       0.205567  0.230676       -0.032466   \n",
              "4  0.201392  1.17814  0.126941      -0.952657 -0.051641        0.712265   \n",
              "\n",
              "     cadera  ind_cintura_cadera  ind_cintura_estatura  por_grasa_corporal  \\\n",
              "0  1.126584            1.598662              2.329321            1.644111   \n",
              "1  1.473488           -0.480039              0.331455            0.671618   \n",
              "2 -0.538551            0.110876              0.114426            0.808394   \n",
              "3 -0.205524            0.191897              0.430228            0.554358   \n",
              "4  1.112708           -0.331560              0.563073            0.860384   \n",
              "\n",
              "   masa_corporal_magra_kg  pliegue_cutaneo_BICEPS  pliegue_cutaneo_TRICEPS  \\\n",
              "0                0.267528                0.674902                 1.995844   \n",
              "1                0.006891               -0.739152                 0.589424   \n",
              "2               -1.287573                0.674902                 0.413621   \n",
              "3               -0.575940               -0.739152                 0.589424   \n",
              "4               -0.424207                0.144631                 0.589424   \n",
              "\n",
              "   pliegue_cutaneo_ESCAPULAR  pliegue_cutaneo_SUPRAILIACO  \n",
              "0                   3.321753                     3.247533  \n",
              "1                   0.116258                     1.230490  \n",
              "2                   0.681934                     0.390055  \n",
              "3                   0.116258                     0.558142  \n",
              "4                   1.059051                     0.726229  "
            ],
            "text/html": [
              "\n",
              "  <div id=\"df-22045bef-bfd1-440e-9ae6-9beaabca65b0\">\n",
              "    <div class=\"colab-df-container\">\n",
              "      <div>\n",
              "<style scoped>\n",
              "    .dataframe tbody tr th:only-of-type {\n",
              "        vertical-align: middle;\n",
              "    }\n",
              "\n",
              "    .dataframe tbody tr th {\n",
              "        vertical-align: top;\n",
              "    }\n",
              "\n",
              "    .dataframe thead th {\n",
              "        text-align: right;\n",
              "    }\n",
              "</style>\n",
              "<table border=\"1\" class=\"dataframe\">\n",
              "  <thead>\n",
              "    <tr style=\"text-align: right;\">\n",
              "      <th></th>\n",
              "      <th>talla</th>\n",
              "      <th>edad</th>\n",
              "      <th>peso_kg</th>\n",
              "      <th>circun_cuello</th>\n",
              "      <th>IMC</th>\n",
              "      <th>circun_cintura</th>\n",
              "      <th>cadera</th>\n",
              "      <th>ind_cintura_cadera</th>\n",
              "      <th>ind_cintura_estatura</th>\n",
              "      <th>por_grasa_corporal</th>\n",
              "      <th>masa_corporal_magra_kg</th>\n",
              "      <th>pliegue_cutaneo_BICEPS</th>\n",
              "      <th>pliegue_cutaneo_TRICEPS</th>\n",
              "      <th>pliegue_cutaneo_ESCAPULAR</th>\n",
              "      <th>pliegue_cutaneo_SUPRAILIACO</th>\n",
              "    </tr>\n",
              "  </thead>\n",
              "  <tbody>\n",
              "    <tr>\n",
              "      <th>0</th>\n",
              "      <td>-0.421047</td>\n",
              "      <td>1.17814</td>\n",
              "      <td>1.677698</td>\n",
              "      <td>1.641765</td>\n",
              "      <td>2.357629</td>\n",
              "      <td>2.201726</td>\n",
              "      <td>1.126584</td>\n",
              "      <td>1.598662</td>\n",
              "      <td>2.329321</td>\n",
              "      <td>1.644111</td>\n",
              "      <td>0.267528</td>\n",
              "      <td>0.674902</td>\n",
              "      <td>1.995844</td>\n",
              "      <td>3.321753</td>\n",
              "      <td>3.247533</td>\n",
              "    </tr>\n",
              "    <tr>\n",
              "      <th>1</th>\n",
              "      <td>1.040333</td>\n",
              "      <td>1.17814</td>\n",
              "      <td>0.479386</td>\n",
              "      <td>-0.165065</td>\n",
              "      <td>-0.017224</td>\n",
              "      <td>0.898448</td>\n",
              "      <td>1.473488</td>\n",
              "      <td>-0.480039</td>\n",
              "      <td>0.331455</td>\n",
              "      <td>0.671618</td>\n",
              "      <td>0.006891</td>\n",
              "      <td>-0.739152</td>\n",
              "      <td>0.589424</td>\n",
              "      <td>0.116258</td>\n",
              "      <td>1.230490</td>\n",
              "    </tr>\n",
              "    <tr>\n",
              "      <th>2</th>\n",
              "      <td>-1.016425</td>\n",
              "      <td>1.17814</td>\n",
              "      <td>-0.918645</td>\n",
              "      <td>-0.767341</td>\n",
              "      <td>-0.261293</td>\n",
              "      <td>-0.376187</td>\n",
              "      <td>-0.538551</td>\n",
              "      <td>0.110876</td>\n",
              "      <td>0.114426</td>\n",
              "      <td>0.808394</td>\n",
              "      <td>-1.287573</td>\n",
              "      <td>0.674902</td>\n",
              "      <td>0.413621</td>\n",
              "      <td>0.681934</td>\n",
              "      <td>0.390055</td>\n",
              "    </tr>\n",
              "    <tr>\n",
              "      <th>3</th>\n",
              "      <td>-0.962299</td>\n",
              "      <td>1.17814</td>\n",
              "      <td>-0.272496</td>\n",
              "      <td>0.205567</td>\n",
              "      <td>0.230676</td>\n",
              "      <td>-0.032466</td>\n",
              "      <td>-0.205524</td>\n",
              "      <td>0.191897</td>\n",
              "      <td>0.430228</td>\n",
              "      <td>0.554358</td>\n",
              "      <td>-0.575940</td>\n",
              "      <td>-0.739152</td>\n",
              "      <td>0.589424</td>\n",
              "      <td>0.116258</td>\n",
              "      <td>0.558142</td>\n",
              "    </tr>\n",
              "    <tr>\n",
              "      <th>4</th>\n",
              "      <td>0.201392</td>\n",
              "      <td>1.17814</td>\n",
              "      <td>0.126941</td>\n",
              "      <td>-0.952657</td>\n",
              "      <td>-0.051641</td>\n",
              "      <td>0.712265</td>\n",
              "      <td>1.112708</td>\n",
              "      <td>-0.331560</td>\n",
              "      <td>0.563073</td>\n",
              "      <td>0.860384</td>\n",
              "      <td>-0.424207</td>\n",
              "      <td>0.144631</td>\n",
              "      <td>0.589424</td>\n",
              "      <td>1.059051</td>\n",
              "      <td>0.726229</td>\n",
              "    </tr>\n",
              "  </tbody>\n",
              "</table>\n",
              "</div>\n",
              "      <button class=\"colab-df-convert\" onclick=\"convertToInteractive('df-22045bef-bfd1-440e-9ae6-9beaabca65b0')\"\n",
              "              title=\"Convert this dataframe to an interactive table.\"\n",
              "              style=\"display:none;\">\n",
              "        \n",
              "  <svg xmlns=\"http://www.w3.org/2000/svg\" height=\"24px\"viewBox=\"0 0 24 24\"\n",
              "       width=\"24px\">\n",
              "    <path d=\"M0 0h24v24H0V0z\" fill=\"none\"/>\n",
              "    <path d=\"M18.56 5.44l.94 2.06.94-2.06 2.06-.94-2.06-.94-.94-2.06-.94 2.06-2.06.94zm-11 1L8.5 8.5l.94-2.06 2.06-.94-2.06-.94L8.5 2.5l-.94 2.06-2.06.94zm10 10l.94 2.06.94-2.06 2.06-.94-2.06-.94-.94-2.06-.94 2.06-2.06.94z\"/><path d=\"M17.41 7.96l-1.37-1.37c-.4-.4-.92-.59-1.43-.59-.52 0-1.04.2-1.43.59L10.3 9.45l-7.72 7.72c-.78.78-.78 2.05 0 2.83L4 21.41c.39.39.9.59 1.41.59.51 0 1.02-.2 1.41-.59l7.78-7.78 2.81-2.81c.8-.78.8-2.07 0-2.86zM5.41 20L4 18.59l7.72-7.72 1.47 1.35L5.41 20z\"/>\n",
              "  </svg>\n",
              "      </button>\n",
              "      \n",
              "  <style>\n",
              "    .colab-df-container {\n",
              "      display:flex;\n",
              "      flex-wrap:wrap;\n",
              "      gap: 12px;\n",
              "    }\n",
              "\n",
              "    .colab-df-convert {\n",
              "      background-color: #E8F0FE;\n",
              "      border: none;\n",
              "      border-radius: 50%;\n",
              "      cursor: pointer;\n",
              "      display: none;\n",
              "      fill: #1967D2;\n",
              "      height: 32px;\n",
              "      padding: 0 0 0 0;\n",
              "      width: 32px;\n",
              "    }\n",
              "\n",
              "    .colab-df-convert:hover {\n",
              "      background-color: #E2EBFA;\n",
              "      box-shadow: 0px 1px 2px rgba(60, 64, 67, 0.3), 0px 1px 3px 1px rgba(60, 64, 67, 0.15);\n",
              "      fill: #174EA6;\n",
              "    }\n",
              "\n",
              "    [theme=dark] .colab-df-convert {\n",
              "      background-color: #3B4455;\n",
              "      fill: #D2E3FC;\n",
              "    }\n",
              "\n",
              "    [theme=dark] .colab-df-convert:hover {\n",
              "      background-color: #434B5C;\n",
              "      box-shadow: 0px 1px 3px 1px rgba(0, 0, 0, 0.15);\n",
              "      filter: drop-shadow(0px 1px 2px rgba(0, 0, 0, 0.3));\n",
              "      fill: #FFFFFF;\n",
              "    }\n",
              "  </style>\n",
              "\n",
              "      <script>\n",
              "        const buttonEl =\n",
              "          document.querySelector('#df-22045bef-bfd1-440e-9ae6-9beaabca65b0 button.colab-df-convert');\n",
              "        buttonEl.style.display =\n",
              "          google.colab.kernel.accessAllowed ? 'block' : 'none';\n",
              "\n",
              "        async function convertToInteractive(key) {\n",
              "          const element = document.querySelector('#df-22045bef-bfd1-440e-9ae6-9beaabca65b0');\n",
              "          const dataTable =\n",
              "            await google.colab.kernel.invokeFunction('convertToInteractive',\n",
              "                                                     [key], {});\n",
              "          if (!dataTable) return;\n",
              "\n",
              "          const docLinkHtml = 'Like what you see? Visit the ' +\n",
              "            '<a target=\"_blank\" href=https://colab.research.google.com/notebooks/data_table.ipynb>data table notebook</a>'\n",
              "            + ' to learn more about interactive tables.';\n",
              "          element.innerHTML = '';\n",
              "          dataTable['output_type'] = 'display_data';\n",
              "          await google.colab.output.renderOutput(dataTable, element);\n",
              "          const docLink = document.createElement('div');\n",
              "          docLink.innerHTML = docLinkHtml;\n",
              "          element.appendChild(docLink);\n",
              "        }\n",
              "      </script>\n",
              "    </div>\n",
              "  </div>\n",
              "  "
            ]
          },
          "metadata": {},
          "execution_count": 10
        }
      ]
    },
    {
      "cell_type": "code",
      "source": [
        "#CREAR LOS GRAFICOS DE NORMALIDAD\n",
        "#CON LOS DATOS DE data_nutricion_skler\n",
        "\n",
        "#Obtener el array de las columnas de la DATA \n",
        "columnas = data_nutricion_skler.columns.values\n",
        "#print(columnas)\n",
        "\n",
        "#Se generan los gráficos de Normalidad\n",
        "Graf_Normal(columnas,data_nutricion_skler)"
      ],
      "metadata": {
        "id": "Ru2JBp-PX67F"
      },
      "execution_count": null,
      "outputs": []
    },
    {
      "cell_type": "code",
      "source": [
        "# Test de Kolmogorov-Smirnov\n",
        "#Cuando n > 50\n",
        "\n",
        "#Obtener el array de las columnas de la DATA \n",
        "columnas = data_nutricion_skler.columns.values\n",
        "#print(columnas)\n",
        "\n",
        "#Valor del error Tipo I\n",
        "p0 = 0.025\n",
        "Normalidad(columnas,data_nutricion_skler,p0)"
      ],
      "metadata": {
        "colab": {
          "base_uri": "https://localhost:8080/"
        },
        "id": "WnvlI7y1YiTw",
        "outputId": "75cb4bbf-0a42-49fe-ddc6-722b4a99d1a9"
      },
      "execution_count": null,
      "outputs": [
        {
          "output_type": "stream",
          "name": "stdout",
          "text": [
            "Variable:  talla\n",
            "Estadisticos=0.042, p-value=0.197\n",
            "Se ACEPTA Ho por lo tanto los datos ESTAN NORMALMENTE DISTRIBUIDOS\n",
            "--------------------------------------------------------------------------\n",
            "Variable:  edad\n",
            "Estadisticos=0.193, p-value=0.000\n",
            "Se RECHAZA Ho por lo tanto los datos NO ESTAN NORMALMENTE DISTRIBUIDOS\n",
            "--------------------------------------------------------------------------\n",
            "Variable:  peso_kg\n",
            "Estadisticos=0.074, p-value=0.001\n",
            "Se RECHAZA Ho por lo tanto los datos NO ESTAN NORMALMENTE DISTRIBUIDOS\n",
            "--------------------------------------------------------------------------\n",
            "Variable:  circun_cuello\n",
            "Estadisticos=0.052, p-value=0.059\n",
            "Se ACEPTA Ho por lo tanto los datos ESTAN NORMALMENTE DISTRIBUIDOS\n",
            "--------------------------------------------------------------------------\n",
            "Variable:  IMC\n",
            "Estadisticos=0.070, p-value=0.003\n",
            "Se RECHAZA Ho por lo tanto los datos NO ESTAN NORMALMENTE DISTRIBUIDOS\n",
            "--------------------------------------------------------------------------\n",
            "Variable:  circun_cintura\n",
            "Estadisticos=0.071, p-value=0.003\n",
            "Se RECHAZA Ho por lo tanto los datos NO ESTAN NORMALMENTE DISTRIBUIDOS\n",
            "--------------------------------------------------------------------------\n",
            "Variable:  cadera\n",
            "Estadisticos=0.066, p-value=0.007\n",
            "Se RECHAZA Ho por lo tanto los datos NO ESTAN NORMALMENTE DISTRIBUIDOS\n",
            "--------------------------------------------------------------------------\n",
            "Variable:  ind_cintura_cadera\n",
            "Estadisticos=0.034, p-value=0.443\n",
            "Se ACEPTA Ho por lo tanto los datos ESTAN NORMALMENTE DISTRIBUIDOS\n",
            "--------------------------------------------------------------------------\n",
            "Variable:  ind_cintura_estatura\n",
            "Estadisticos=0.059, p-value=0.020\n",
            "Se RECHAZA Ho por lo tanto los datos NO ESTAN NORMALMENTE DISTRIBUIDOS\n",
            "--------------------------------------------------------------------------\n",
            "Variable:  por_grasa_corporal\n",
            "Estadisticos=0.138, p-value=0.000\n",
            "Se RECHAZA Ho por lo tanto los datos NO ESTAN NORMALMENTE DISTRIBUIDOS\n",
            "--------------------------------------------------------------------------\n",
            "Variable:  masa_corporal_magra_kg\n",
            "Estadisticos=0.066, p-value=0.007\n",
            "Se RECHAZA Ho por lo tanto los datos NO ESTAN NORMALMENTE DISTRIBUIDOS\n",
            "--------------------------------------------------------------------------\n",
            "Variable:  pliegue_cutaneo_BICEPS\n",
            "Estadisticos=0.133, p-value=0.000\n",
            "Se RECHAZA Ho por lo tanto los datos NO ESTAN NORMALMENTE DISTRIBUIDOS\n",
            "--------------------------------------------------------------------------\n",
            "Variable:  pliegue_cutaneo_TRICEPS\n",
            "Estadisticos=0.067, p-value=0.006\n",
            "Se RECHAZA Ho por lo tanto los datos NO ESTAN NORMALMENTE DISTRIBUIDOS\n",
            "--------------------------------------------------------------------------\n",
            "Variable:  pliegue_cutaneo_ESCAPULAR\n",
            "Estadisticos=0.084, p-value=0.000\n",
            "Se RECHAZA Ho por lo tanto los datos NO ESTAN NORMALMENTE DISTRIBUIDOS\n",
            "--------------------------------------------------------------------------\n",
            "Variable:  pliegue_cutaneo_SUPRAILIACO\n",
            "Estadisticos=0.070, p-value=0.003\n",
            "Se RECHAZA Ho por lo tanto los datos NO ESTAN NORMALMENTE DISTRIBUIDOS\n",
            "--------------------------------------------------------------------------\n"
          ]
        }
      ]
    },
    {
      "cell_type": "markdown",
      "source": [
        "## Correlaciones"
      ],
      "metadata": {
        "id": "saP5_0Z_aP9d"
      }
    },
    {
      "cell_type": "markdown",
      "source": [
        "Planteamiento de hipótesis:\n",
        "\n",
        "Ho: No existe correlacion entre las variables A y B.\n",
        "\n",
        "Ha: Existe correlacion entre las variables A y B.\n",
        "\n",
        "Nivel de significancia = 5%"
      ],
      "metadata": {
        "id": "eZiaGmi5aUL6"
      }
    },
    {
      "cell_type": "markdown",
      "source": [
        "FUERTEMENTE CORRELACIONADAS"
      ],
      "metadata": {
        "id": "PmZWuuG7FIFJ"
      }
    },
    {
      "cell_type": "code",
      "source": [
        "#Graficamos las variables a correlacionar\n",
        "#Se escogieron dos variables FUERTEMENTE correlacionadas \n",
        "#en base al estadístico de la Rho de SPEARMANR (Ver proyecto 3.1)\n",
        "#NOTA: Ambas variables NO siguen una DISTRIBUCIÓN NORMAL.\n",
        "\n",
        "sns.FacetGrid(data_nutricion, size=5).map(plt.scatter, \"por_grasa_corporal\", \"pliegue_cutaneo_TRICEPS\").add_legend()"
      ],
      "metadata": {
        "colab": {
          "base_uri": "https://localhost:8080/",
          "height": 442
        },
        "id": "Cdjb_i8gabMH",
        "outputId": "17222bab-64e5-4d9e-9386-3d5c1c87b134"
      },
      "execution_count": null,
      "outputs": [
        {
          "output_type": "stream",
          "name": "stderr",
          "text": [
            "/usr/local/lib/python3.7/dist-packages/seaborn/axisgrid.py:337: UserWarning: The `size` parameter has been renamed to `height`; please update your code.\n",
            "  warnings.warn(msg, UserWarning)\n"
          ]
        },
        {
          "output_type": "execute_result",
          "data": {
            "text/plain": [
              "<seaborn.axisgrid.FacetGrid at 0x7f9e3d954210>"
            ]
          },
          "metadata": {},
          "execution_count": 12
        },
        {
          "output_type": "display_data",
          "data": {
            "text/plain": [
              "<Figure size 368x360 with 1 Axes>"
            ],
            "image/png": "[encoded data removed]"
          },
          "metadata": {
            "needs_background": "light"
          }
        }
      ]
    },
    {
      "cell_type": "code",
      "source": [
        "# Correlación Spearmanr\n",
        "\n",
        "from scipy.stats import pearsonr, spearmanr\n",
        "\n",
        "rho, p = spearmanr(data_nutricion['por_grasa_corporal'], data_nutricion['pliegue_cutaneo_TRICEPS'])\n",
        "p0 = 0.05\n",
        "\n",
        "print('Correlación Pearson=%.3f, p-value=%.3f' % (rho, p))\n",
        "if p>=p0:\n",
        "  print(\"ACEPTA Ho; por lo tanto NO EXISTE CORRELACIÓN entre las variables\")\n",
        "else: \n",
        "  print(\"RECHAZA Ho; por lo tanto EXISTE CORRELACIÓN entre las variables\")"
      ],
      "metadata": {
        "colab": {
          "base_uri": "https://localhost:8080/"
        },
        "id": "E-NKAilfCgl6",
        "outputId": "3e94537c-4d62-4230-ef39-9e01d84922c2"
      },
      "execution_count": null,
      "outputs": [
        {
          "output_type": "stream",
          "name": "stdout",
          "text": [
            "Correlación Pearson=0.912, p-value=0.000\n",
            "RECHAZA Ho; por lo tanto EXISTE CORRELACIÓN entre las variables\n"
          ]
        }
      ]
    },
    {
      "cell_type": "markdown",
      "source": [
        "DÉBILMENTE CORRELACIONADAS"
      ],
      "metadata": {
        "id": "9bDtXXRyFOJj"
      }
    },
    {
      "cell_type": "code",
      "source": [
        "#Graficamos las variables a correlacionar\n",
        "#Se escogieron dos variables DEBILMENTE correlacionadas \n",
        "#en base al estadístico de la Rho de SPEARMANR (Ver proyecto 3.1)\n",
        "#NOTA: Ambas variables NO siguen una DISTRIBUCIÓN NORMAL.\n",
        "\n",
        "sns.FacetGrid(data_nutricion, size=5).map(plt.scatter, \"ind_cintura_cadera\", \"edad\").add_legend()"
      ],
      "metadata": {
        "colab": {
          "base_uri": "https://localhost:8080/",
          "height": 442
        },
        "id": "lCb2pE-pEdAq",
        "outputId": "5b17e648-675c-44d7-b055-7de4fe2cdd97"
      },
      "execution_count": null,
      "outputs": [
        {
          "output_type": "stream",
          "name": "stderr",
          "text": [
            "/usr/local/lib/python3.7/dist-packages/seaborn/axisgrid.py:337: UserWarning: The `size` parameter has been renamed to `height`; please update your code.\n",
            "  warnings.warn(msg, UserWarning)\n"
          ]
        },
        {
          "output_type": "execute_result",
          "data": {
            "text/plain": [
              "<seaborn.axisgrid.FacetGrid at 0x7f9e3e2ee250>"
            ]
          },
          "metadata": {},
          "execution_count": 14
        },
        {
          "output_type": "display_data",
          "data": {
            "text/plain": [
              "<Figure size 368x360 with 1 Axes>"
            ],
            "image/png": "[encoded data removed]"
          },
          "metadata": {
            "needs_background": "light"
          }
        }
      ]
    },
    {
      "cell_type": "code",
      "source": [
        "# Correlación Spearmanr\n",
        "\n",
        "from scipy.stats import pearsonr, spearmanr\n",
        "\n",
        "rho, p = spearmanr(data_nutricion['ind_cintura_cadera'], data_nutricion['edad'])\n",
        "p0 = 0.05\n",
        "\n",
        "print('Correlación Pearson=%.3f, p-value=%.3f' % (rho, p))\n",
        "\n",
        "if p>=p0:\n",
        "  print(\"ACEPTA Ho; por lo tanto NO EXISTE CORRELACIÓN entre las variables\")\n",
        "else: \n",
        "  print(\"RECHAZA Ho; por lo tanto EXISTE CORRELACIÓN entre las variables\")"
      ],
      "metadata": {
        "colab": {
          "base_uri": "https://localhost:8080/"
        },
        "id": "lY0AdBp2FGMa",
        "outputId": "6c080cb4-fa39-4113-d453-bd5b1850594c"
      },
      "execution_count": null,
      "outputs": [
        {
          "output_type": "stream",
          "name": "stdout",
          "text": [
            "Correlación Pearson=0.029, p-value=0.465\n",
            "ACEPTA Ho; por lo tanto NO EXISTE CORRELACIÓN entre las variables\n"
          ]
        }
      ]
    },
    {
      "cell_type": "markdown",
      "source": [
        "## PRUEBA WILCOXON 2 MUESTRAS RELACIONADAS O PAREADAS\n",
        "(no paramétrica)\n",
        "\n",
        "Ho: Med(Diferencia) = 0; La mediana de las diferencias de cada par de datos es cero.\n",
        "\n",
        "Ha: Med(Diferencia) <> 0; La mediana de las diferencias de cada par de datos es diferente de cero."
      ],
      "metadata": {
        "id": "-UdNVPZRHEtm"
      }
    },
    {
      "cell_type": "code",
      "source": [
        "\n",
        "#Se seleccionaron las variables \"por_grasa_corporal\" y \"pliegue_cutaneo_TRICEPS\"\n",
        "#Debido a que están FUERTEMENTE CORRELACIONADAS; y se sospecha que las \n",
        "#MEDIANAS SON IGUALES \n",
        "\n",
        "# Graficamos\n",
        "\n",
        "data_nutricion.boxplot(column=\"por_grasa_corporal\", by=\"pliegue_cutaneo_TRICEPS\",\n",
        "\tfigsize=(8,6))\n",
        "plt.show()\n",
        "\n"
      ],
      "metadata": {
        "id": "D9ZiwOQuHCnU",
        "colab": {
          "base_uri": "https://localhost:8080/",
          "height": 477
        },
        "outputId": "eb57e068-f65c-4112-cba1-0cc9a012739a"
      },
      "execution_count": null,
      "outputs": [
        {
          "output_type": "stream",
          "name": "stderr",
          "text": [
            "/usr/local/lib/python3.7/dist-packages/matplotlib/cbook/__init__.py:1376: VisibleDeprecationWarning: Creating an ndarray from ragged nested sequences (which is a list-or-tuple of lists-or-tuples-or ndarrays with different lengths or shapes) is deprecated. If you meant to do this, you must specify 'dtype=object' when creating the ndarray.\n",
            "  X = np.atleast_1d(X.T if isinstance(X, np.ndarray) else np.asarray(X))\n"
          ]
        },
        {
          "output_type": "display_data",
          "data": {
            "text/plain": [
              "<Figure size 576x432 with 1 Axes>"
            ],
            "image/png": "[encoded data removed]"
          },
          "metadata": {
            "needs_background": "light"
          }
        }
      ]
    },
    {
      "cell_type": "code",
      "source": [
        "from scipy.stats import wilcoxon\n",
        "\n",
        "wi_test, p = wilcoxon(data_nutricion[\"por_grasa_corporal\"], data_nutricion[\"pliegue_cutaneo_TRICEPS\"])\n",
        "\n",
        "p0=0.025\n",
        "\n",
        "print('Prueba de Wilcoxon=%.3f, p-value=%.3f' % (wi_test, p))\n",
        "\n",
        "if p>=p0:\n",
        "  print(\"ACEPTA Ho; La mediana de las diferencias de cada par de datos es cero.\")\n",
        "else: \n",
        "  print(\"RECHAZA Ho; La mediana de las diferencias de cada par de datos es diferente de cero.\")"
      ],
      "metadata": {
        "colab": {
          "base_uri": "https://localhost:8080/"
        },
        "id": "kUEwhzIRJHT7",
        "outputId": "15fef4b9-83dd-4cec-a327-37456e80d641"
      },
      "execution_count": null,
      "outputs": [
        {
          "output_type": "stream",
          "name": "stdout",
          "text": [
            "Prueba de Wilcoxon=433.000, p-value=0.000\n",
            "RECHAZA Ho; La mediana de las diferencias de cada par de datos es diferente de cero.\n"
          ]
        }
      ]
    }
  ],
  "metadata": {
    "colab": {
      "name": "PROYECTO3.2.ipynb",
      "provenance": [],
      "authorship_tag": "ABX9TyNqhhgI7ROes1EpZLUWsKyl",
      "include_colab_link": true
    },
    "kernelspec": {
      "display_name": "Python 3",
      "name": "python3"
    },
    "language_info": {
      "name": "python"
    }
  },
  "nbformat": 4,
  "nbformat_minor": 0
}